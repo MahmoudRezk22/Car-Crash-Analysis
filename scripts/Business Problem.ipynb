{
 "cells": [
  {
   "cell_type": "markdown",
   "metadata": {},
   "source": [
    "# The Battle of Neighbourhoods"
   ]
  },
  {
   "cell_type": "markdown",
   "metadata": {},
   "source": [
    "## Introduction:\n"
   ]
  },
  {
   "cell_type": "markdown",
   "metadata": {},
   "source": [
    "The purpose of this project is to mainly help people whom are living and welling to live in Scarborough to explore the facilites in the areas they desire. This will give people that are unfamiliar with the area to have an outlook of how the area would look like. \n",
    "\n",
    "The project aims to analyse to explore the different neighbourhoods to help people travelling (or moving from other city) to land to the neighbourhood they desire the most and satisfies their needs in terms of house pricing and school locations. "
   ]
  },
  {
   "cell_type": "markdown",
   "metadata": {},
   "source": [
    "## Problems Identified in this Project:\n",
    "\n",
    "The project aims to cluster neighborhoods in terms of the facilites that are present and how connected are they in the city of Scarborough.\n",
    "It will try to \n",
    "1. Sort houses in terms of most expensive to least expensive\n",
    "2. Sort schools in terms of location and fees."
   ]
  },
  {
   "cell_type": "markdown",
   "metadata": {},
   "source": [
    "## Project Segmentation:\n",
    "\n",
    "Foursquare Api have shown its resourcefulness in the past assigned tasks throughout the project, hence it will be used as the source of information in the city. \n",
    "\n",
    "After the information are gathered a clustering approach using K-nearest neighbours will be used to cluster the locations, similar to what we did to New york and Toronto"
   ]
  },
  {
   "cell_type": "code",
   "execution_count": null,
   "metadata": {},
   "outputs": [],
   "source": []
  }
 ],
 "metadata": {
  "kernelspec": {
   "display_name": "Python 3",
   "language": "python",
   "name": "python3"
  },
  "language_info": {
   "codemirror_mode": {
    "name": "ipython",
    "version": 3
   },
   "file_extension": ".py",
   "mimetype": "text/x-python",
   "name": "python",
   "nbconvert_exporter": "python",
   "pygments_lexer": "ipython3",
   "version": "3.7.9"
  }
 },
 "nbformat": 4,
 "nbformat_minor": 4
}
